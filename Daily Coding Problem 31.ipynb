{
 "cells": [
  {
   "cell_type": "markdown",
   "id": "07336847",
   "metadata": {},
   "source": [
    "# Daily Coding Problem 31"
   ]
  },
  {
   "cell_type": "raw",
   "id": "f3df062d",
   "metadata": {},
   "source": [
    "This problem was asked by Google.\n",
    "\n",
    "The edit distance between two strings refers to the minimum number of character insertions, deletions, and substitutions required to change one string to the other. For example, the edit distance between “kitten” and “sitting” is three: substitute the “k” for “s”, substitute the “e” for “i”, and append a “g”.\n",
    "\n",
    "Given two strings, compute the edit distance between them."
   ]
  },
  {
   "cell_type": "markdown",
   "id": "af08b864",
   "metadata": {},
   "source": [
    "# Solution\n",
    "First, notice that we can probably define this problem recursively. How can we notice this? If we look at the example (kitten -> sitting) and its solution path (kitten -> sitten -> sittin -> sitting), we can see that it's the minimum distance between sitten and sitting plus one.\n",
    "\n",
    "The recurrence, then, looks like this:\n",
    "\n",
    " * If either s1 or s2 are empty, then return the size of the larger of the two strings (since we can trivially turn an empty string into a string by inserting all its characters)\n",
    " * Otherwise, return the minimum between:\n",
    " \n",
    "        * The edit distance between each string and the last n - 1 characters of the other plus one\n",
    "        * If the first character in each string is the same, then the edit distance between s1[1:] and s2[1:],               otherwise the same edit distance + 1\n",
    "        \n",
    "So, the naive recursive solution would look like this:"
   ]
  },
  {
   "cell_type": "code",
   "execution_count": 3,
   "id": "b9e691ff",
   "metadata": {},
   "outputs": [
    {
     "name": "stdout",
     "output_type": "stream",
     "text": [
      "3\n"
     ]
    }
   ],
   "source": [
    "def distance(s1, s2):\n",
    "    if len(s1) == 0 or len(s2) == 0:\n",
    "        return max(len(s1), len(s2))\n",
    "\n",
    "    return min(distance(s1[1:], s2) + 1,\n",
    "               distance(s1, s2[1:]) + 1,\n",
    "               distance(s1[1:], s2[1:]) if s1[0] == s2[0]\n",
    "               else distance(s1[1:], s2[1:]) + 1)\n",
    "\n",
    "print(distance('kitten','sitting'))"
   ]
  },
  {
   "cell_type": "markdown",
   "id": "fa206642",
   "metadata": {},
   "source": [
    "However, this runs very slowly due to repeated subcomputations. We can speed it up by using dynamic programming and storing the subcomputations in a 2D matrix. The index at i, j will contain the edit distance between s1[:i] and s2[:j]. Then, once we fill it up, we can return the value of the matrix at A[-1][-1]."
   ]
  },
  {
   "cell_type": "code",
   "execution_count": 2,
   "id": "d88f66cb",
   "metadata": {},
   "outputs": [
    {
     "name": "stdout",
     "output_type": "stream",
     "text": [
      "3\n"
     ]
    }
   ],
   "source": [
    "def distance(s1, s2):\n",
    "    x = len(s1) + 1 # the length of the x-coordinate\n",
    "    y = len(s2) + 1 # the length of the y-coordinate\n",
    "\n",
    "    A = [[-1 for i in range(x)] for j in range(y)]\n",
    "    for i in range(x):\n",
    "        A[0][i] = i\n",
    "\n",
    "    for j in range(y):\n",
    "        A[j][0] = j\n",
    "\n",
    "    for i in range(1, y):\n",
    "        for j in range(1, x):\n",
    "            if s1[j- 1] == s2[i - 1]:\n",
    "                A[i][j] = A[i - 1][j - 1]\n",
    "            else:\n",
    "                A[i][j] = min(\n",
    "                        A[i - 1][j] + 1,\n",
    "                        A[i][j - 1] + 1,\n",
    "                        A[i - 1][j - 1] + 1\n",
    "                        )\n",
    "    return A[y - 1][x - 1] # return the edit distance between the two strings\n",
    "\n",
    "print(distance('kitten','sitting'))"
   ]
  },
  {
   "cell_type": "markdown",
   "id": "eca69824",
   "metadata": {},
   "source": [
    "This now takes O(N * M) time and space, where N and M are the lengths of the strings."
   ]
  }
 ],
 "metadata": {
  "kernelspec": {
   "display_name": "Python 3 (ipykernel)",
   "language": "python",
   "name": "python3"
  },
  "language_info": {
   "codemirror_mode": {
    "name": "ipython",
    "version": 3
   },
   "file_extension": ".py",
   "mimetype": "text/x-python",
   "name": "python",
   "nbconvert_exporter": "python",
   "pygments_lexer": "ipython3",
   "version": "3.8.10"
  }
 },
 "nbformat": 4,
 "nbformat_minor": 5
}
